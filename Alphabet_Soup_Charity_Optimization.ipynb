{
 "cells": [
  {
   "cell_type": "markdown",
   "id": "79199bf0",
   "metadata": {},
   "source": [
    "# Deep Learning: Charity Funding Predictor\n",
    "\n",
    "## Contributor: Sam Espe\n",
    "\n",
    "### Step 3: Optimizing the Model"
   ]
  },
  {
   "cell_type": "code",
   "execution_count": 1,
   "id": "1c3de9e4",
   "metadata": {},
   "outputs": [],
   "source": [
    "# Import dependencies"
   ]
  },
  {
   "cell_type": "code",
   "execution_count": 2,
   "id": "80d43de6",
   "metadata": {},
   "outputs": [],
   "source": [
    "# Read in charity_data.csv"
   ]
  },
  {
   "cell_type": "markdown",
   "id": "6ca23d96",
   "metadata": {},
   "source": [
    "#### Pre-Process the Data\n",
    "Adjusting for modifications to optimize model"
   ]
  },
  {
   "cell_type": "code",
   "execution_count": 3,
   "id": "ae58ff84",
   "metadata": {},
   "outputs": [],
   "source": []
  },
  {
   "cell_type": "code",
   "execution_count": null,
   "id": "ad2a9b6a",
   "metadata": {},
   "outputs": [],
   "source": []
  },
  {
   "cell_type": "code",
   "execution_count": null,
   "id": "87cc4d7b",
   "metadata": {},
   "outputs": [],
   "source": []
  },
  {
   "cell_type": "code",
   "execution_count": null,
   "id": "1e2caea5",
   "metadata": {},
   "outputs": [],
   "source": []
  },
  {
   "cell_type": "code",
   "execution_count": null,
   "id": "74f11bc8",
   "metadata": {},
   "outputs": [],
   "source": []
  },
  {
   "cell_type": "markdown",
   "id": "7bb6e1a3",
   "metadata": {},
   "source": [
    "#### Create the Neural Network\n",
    "Modifying the original model to optimize it"
   ]
  },
  {
   "cell_type": "code",
   "execution_count": null,
   "id": "3ed3152c",
   "metadata": {},
   "outputs": [],
   "source": []
  },
  {
   "cell_type": "code",
   "execution_count": null,
   "id": "1dfa0965",
   "metadata": {},
   "outputs": [],
   "source": []
  },
  {
   "cell_type": "code",
   "execution_count": null,
   "id": "e06a01c1",
   "metadata": {},
   "outputs": [],
   "source": []
  },
  {
   "cell_type": "code",
   "execution_count": null,
   "id": "b4e413b5",
   "metadata": {},
   "outputs": [],
   "source": []
  },
  {
   "cell_type": "code",
   "execution_count": null,
   "id": "02567731",
   "metadata": {},
   "outputs": [],
   "source": []
  },
  {
   "cell_type": "code",
   "execution_count": null,
   "id": "5ab692cf",
   "metadata": {},
   "outputs": [],
   "source": []
  },
  {
   "cell_type": "code",
   "execution_count": null,
   "id": "d8f63740",
   "metadata": {},
   "outputs": [],
   "source": [
    "# Export results to HDF5 file: Alphabet_Soup_Charity_Optimization.h5"
   ]
  }
 ],
 "metadata": {
  "kernelspec": {
   "display_name": "Python 3 (ipykernel)",
   "language": "python",
   "name": "python3"
  },
  "language_info": {
   "codemirror_mode": {
    "name": "ipython",
    "version": 3
   },
   "file_extension": ".py",
   "mimetype": "text/x-python",
   "name": "python",
   "nbconvert_exporter": "python",
   "pygments_lexer": "ipython3",
   "version": "3.8.13"
  }
 },
 "nbformat": 4,
 "nbformat_minor": 5
}
